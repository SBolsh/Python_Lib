{
 "cells": [
  {
   "cell_type": "markdown",
   "metadata": {},
   "source": [
    "## Работа с тестовой выборкой"
   ]
  },
  {
   "cell_type": "code",
   "execution_count": 1,
   "metadata": {},
   "outputs": [],
   "source": [
    "import numpy as np\n",
    "import pandas as pd\n",
    "import pickle \n",
    "\n",
    "from sklearn.model_selection import train_test_split,KFold,GridSearchCV\n",
    "from sklearn.preprocessing import StandardScaler\n",
    "from sklearn.linear_model import LinearRegression\n",
    "from sklearn.ensemble import RandomForestRegressor,GradientBoostingRegressor\n",
    "from sklearn.metrics import r2_score as r2,mean_absolute_error as mae,mean_squared_error as mse\n",
    "\n",
    "import matplotlib\n",
    "import matplotlib.pyplot as plt\n",
    "import seaborn as sns\n",
    "import warnings\n",
    "warnings.filterwarnings('ignore')"
   ]
  },
  {
   "cell_type": "code",
   "execution_count": 55,
   "metadata": {},
   "outputs": [],
   "source": [
    "df = pd.read_csv('test_norm.csv')"
   ]
  },
  {
   "cell_type": "code",
   "execution_count": 56,
   "metadata": {},
   "outputs": [
    {
     "name": "stdout",
     "output_type": "stream",
     "text": [
      "<class 'pandas.core.frame.DataFrame'>\n",
      "RangeIndex: 10000 entries, 0 to 9999\n",
      "Data columns (total 18 columns):\n",
      "Id             10000 non-null int64\n",
      "DistrictId     10000 non-null float64\n",
      "Rooms          10000 non-null float64\n",
      "Square         10000 non-null float64\n",
      "LifeSquare     10000 non-null float64\n",
      "Floor          10000 non-null float64\n",
      "HouseFloor     10000 non-null float64\n",
      "HouseYear      10000 non-null float64\n",
      "Ecology_1      10000 non-null float64\n",
      "Social_1       10000 non-null float64\n",
      "Social_2       10000 non-null float64\n",
      "Social_3       10000 non-null float64\n",
      "Helthcare_2    10000 non-null float64\n",
      "Shops_1        10000 non-null float64\n",
      "Ecology_2      10000 non-null int64\n",
      "Ecology_3      10000 non-null int64\n",
      "Shops_2        10000 non-null int64\n",
      "Price          10000 non-null float64\n",
      "dtypes: float64(14), int64(4)\n",
      "memory usage: 1.4 MB\n"
     ]
    }
   ],
   "source": [
    "df.info()"
   ]
  },
  {
   "cell_type": "code",
   "execution_count": 39,
   "metadata": {},
   "outputs": [
    {
     "name": "stdout",
     "output_type": "stream",
     "text": [
      "<class 'pandas.core.frame.DataFrame'>\n",
      "RangeIndex: 5000 entries, 0 to 4999\n",
      "Data columns (total 17 columns):\n",
      "Id             5000 non-null int64\n",
      "DistrictId     5000 non-null float64\n",
      "Rooms          5000 non-null float64\n",
      "Square         5000 non-null float64\n",
      "LifeSquare     5000 non-null float64\n",
      "Floor          5000 non-null float64\n",
      "HouseFloor     5000 non-null float64\n",
      "HouseYear      5000 non-null float64\n",
      "Ecology_1      5000 non-null float64\n",
      "Social_1       5000 non-null float64\n",
      "Social_2       5000 non-null float64\n",
      "Social_3       5000 non-null float64\n",
      "Helthcare_2    5000 non-null float64\n",
      "Shops_1        5000 non-null float64\n",
      "Ecology_3      5000 non-null int64\n",
      "Ecology_2      5000 non-null int64\n",
      "Shops_2        5000 non-null int64\n",
      "dtypes: float64(13), int64(4)\n",
      "memory usage: 664.2 KB\n"
     ]
    }
   ],
   "source": [
    "df['Floor'] = df['Floor'].astype('float64')\n",
    "df['DistrictId'] = df['DistrictId'].astype('float64')\n",
    "df['HouseYear'] = df['HouseYear'].astype('float64')\n",
    "df['Social_1'] = df['Social_1'].astype('float64')\n",
    "df['Social_2'] = df['Social_2'].astype('float64')\n",
    "df['Social_3'] = df['Social_3'].astype('float64')\n",
    "df['Helthcare_2'] = df['Helthcare_2'].astype('float64')\n",
    "df['Shops_1'] = df['Shops_1'].astype('float64')\n",
    "df.info()"
   ]
  },
  {
   "cell_type": "code",
   "execution_count": 40,
   "metadata": {},
   "outputs": [
    {
     "data": {
      "text/plain": [
       "dtype('O')"
      ]
     },
     "execution_count": 40,
     "metadata": {},
     "output_type": "execute_result"
    }
   ],
   "source": [
    "df['Id'] = df['Id'].astype(str)\n",
    "df['Id'].dtype"
   ]
  },
  {
   "cell_type": "code",
   "execution_count": 41,
   "metadata": {},
   "outputs": [],
   "source": [
    "feature_names=['Id', 'DistrictId', 'Rooms', 'Square', 'LifeSquare', 'Floor', 'HouseFloor', 'HouseYear',\n",
    " 'Ecology_1', 'Social_1', 'Social_2', 'Social_3', 'Helthcare_2', 'Shops_1', 'Ecology_2',\n",
    " 'Ecology_3', 'Shops_2']"
   ]
  },
  {
   "cell_type": "code",
   "execution_count": 42,
   "metadata": {},
   "outputs": [
    {
     "data": {
      "text/plain": [
       "['DistrictId',\n",
       " 'Rooms',\n",
       " 'Square',\n",
       " 'LifeSquare',\n",
       " 'Floor',\n",
       " 'HouseFloor',\n",
       " 'HouseYear',\n",
       " 'Ecology_1',\n",
       " 'Social_1',\n",
       " 'Social_2',\n",
       " 'Social_3',\n",
       " 'Helthcare_2',\n",
       " 'Shops_1']"
      ]
     },
     "execution_count": 42,
     "metadata": {},
     "output_type": "execute_result"
    }
   ],
   "source": [
    "feature_names_for_stand=df[feature_names].select_dtypes(include='float64').columns.to_list()\n",
    "feature_names_for_stand"
   ]
  },
  {
   "cell_type": "code",
   "execution_count": 45,
   "metadata": {},
   "outputs": [],
   "source": [
    "with open('scaler.pkl','rb') as file:\n",
    "    scaler_load=pickle.load(file)"
   ]
  },
  {
   "cell_type": "code",
   "execution_count": 46,
   "metadata": {},
   "outputs": [],
   "source": [
    "stand_features=scaler_load.transform(df[feature_names_for_stand])"
   ]
  },
  {
   "cell_type": "code",
   "execution_count": 47,
   "metadata": {},
   "outputs": [],
   "source": [
    "df[feature_names_for_stand]=pd.DataFrame(stand_features,columns=feature_names_for_stand)"
   ]
  },
  {
   "cell_type": "code",
   "execution_count": 48,
   "metadata": {},
   "outputs": [
    {
     "data": {
      "text/html": [
       "<div>\n",
       "<style scoped>\n",
       "    .dataframe tbody tr th:only-of-type {\n",
       "        vertical-align: middle;\n",
       "    }\n",
       "\n",
       "    .dataframe tbody tr th {\n",
       "        vertical-align: top;\n",
       "    }\n",
       "\n",
       "    .dataframe thead th {\n",
       "        text-align: right;\n",
       "    }\n",
       "</style>\n",
       "<table border=\"1\" class=\"dataframe\">\n",
       "  <thead>\n",
       "    <tr style=\"text-align: right;\">\n",
       "      <th></th>\n",
       "      <th>Id</th>\n",
       "      <th>DistrictId</th>\n",
       "      <th>Rooms</th>\n",
       "      <th>Square</th>\n",
       "      <th>LifeSquare</th>\n",
       "      <th>Floor</th>\n",
       "      <th>HouseFloor</th>\n",
       "      <th>HouseYear</th>\n",
       "      <th>Ecology_1</th>\n",
       "      <th>Social_1</th>\n",
       "      <th>Social_2</th>\n",
       "      <th>Social_3</th>\n",
       "      <th>Helthcare_2</th>\n",
       "      <th>Shops_1</th>\n",
       "      <th>Ecology_3</th>\n",
       "      <th>Ecology_2</th>\n",
       "      <th>Shops_2</th>\n",
       "    </tr>\n",
       "  </thead>\n",
       "  <tbody>\n",
       "    <tr>\n",
       "      <td>0</td>\n",
       "      <td>725</td>\n",
       "      <td>0.174352</td>\n",
       "      <td>0.139393</td>\n",
       "      <td>-0.309633</td>\n",
       "      <td>-0.050293</td>\n",
       "      <td>-0.482113</td>\n",
       "      <td>0.092604</td>\n",
       "      <td>-0.010066</td>\n",
       "      <td>1.607652</td>\n",
       "      <td>-0.780698</td>\n",
       "      <td>-0.649967</td>\n",
       "      <td>-0.295384</td>\n",
       "      <td>-0.883480</td>\n",
       "      <td>-0.880402</td>\n",
       "      <td>1</td>\n",
       "      <td>1</td>\n",
       "      <td>1</td>\n",
       "    </tr>\n",
       "    <tr>\n",
       "      <td>1</td>\n",
       "      <td>15856</td>\n",
       "      <td>0.541447</td>\n",
       "      <td>0.139393</td>\n",
       "      <td>0.614072</td>\n",
       "      <td>0.075356</td>\n",
       "      <td>-0.482113</td>\n",
       "      <td>-1.220226</td>\n",
       "      <td>-0.010041</td>\n",
       "      <td>-0.361948</td>\n",
       "      <td>-1.065895</td>\n",
       "      <td>-0.977177</td>\n",
       "      <td>-0.211458</td>\n",
       "      <td>-0.883480</td>\n",
       "      <td>-0.464264</td>\n",
       "      <td>1</td>\n",
       "      <td>1</td>\n",
       "      <td>1</td>\n",
       "    </tr>\n",
       "    <tr>\n",
       "      <td>2</td>\n",
       "      <td>5480</td>\n",
       "      <td>3.202888</td>\n",
       "      <td>-1.090904</td>\n",
       "      <td>-1.425960</td>\n",
       "      <td>-0.277766</td>\n",
       "      <td>-1.245343</td>\n",
       "      <td>-1.384330</td>\n",
       "      <td>-0.010380</td>\n",
       "      <td>-0.998641</td>\n",
       "      <td>0.303050</td>\n",
       "      <td>0.545561</td>\n",
       "      <td>3.313409</td>\n",
       "      <td>2.464303</td>\n",
       "      <td>0.159943</td>\n",
       "      <td>1</td>\n",
       "      <td>1</td>\n",
       "      <td>1</td>\n",
       "    </tr>\n",
       "    <tr>\n",
       "      <td>3</td>\n",
       "      <td>15664</td>\n",
       "      <td>-0.078026</td>\n",
       "      <td>0.139393</td>\n",
       "      <td>0.794396</td>\n",
       "      <td>0.190495</td>\n",
       "      <td>2.570806</td>\n",
       "      <td>1.405433</td>\n",
       "      <td>-0.009892</td>\n",
       "      <td>-0.142708</td>\n",
       "      <td>-0.096225</td>\n",
       "      <td>-0.191973</td>\n",
       "      <td>-0.211458</td>\n",
       "      <td>1.125190</td>\n",
       "      <td>-0.256195</td>\n",
       "      <td>1</td>\n",
       "      <td>1</td>\n",
       "      <td>1</td>\n",
       "    </tr>\n",
       "    <tr>\n",
       "      <td>4</td>\n",
       "      <td>14275</td>\n",
       "      <td>-0.536895</td>\n",
       "      <td>-1.090904</td>\n",
       "      <td>-0.421902</td>\n",
       "      <td>0.079218</td>\n",
       "      <td>1.616769</td>\n",
       "      <td>0.584915</td>\n",
       "      <td>-0.009842</td>\n",
       "      <td>-0.392373</td>\n",
       "      <td>-1.294053</td>\n",
       "      <td>-1.178844</td>\n",
       "      <td>-0.295384</td>\n",
       "      <td>-0.883480</td>\n",
       "      <td>-0.880402</td>\n",
       "      <td>1</td>\n",
       "      <td>1</td>\n",
       "      <td>0</td>\n",
       "    </tr>\n",
       "  </tbody>\n",
       "</table>\n",
       "</div>"
      ],
      "text/plain": [
       "      Id  DistrictId     Rooms    Square  LifeSquare     Floor  HouseFloor  \\\n",
       "0    725    0.174352  0.139393 -0.309633   -0.050293 -0.482113    0.092604   \n",
       "1  15856    0.541447  0.139393  0.614072    0.075356 -0.482113   -1.220226   \n",
       "2   5480    3.202888 -1.090904 -1.425960   -0.277766 -1.245343   -1.384330   \n",
       "3  15664   -0.078026  0.139393  0.794396    0.190495  2.570806    1.405433   \n",
       "4  14275   -0.536895 -1.090904 -0.421902    0.079218  1.616769    0.584915   \n",
       "\n",
       "   HouseYear  Ecology_1  Social_1  Social_2  Social_3  Helthcare_2   Shops_1  \\\n",
       "0  -0.010066   1.607652 -0.780698 -0.649967 -0.295384    -0.883480 -0.880402   \n",
       "1  -0.010041  -0.361948 -1.065895 -0.977177 -0.211458    -0.883480 -0.464264   \n",
       "2  -0.010380  -0.998641  0.303050  0.545561  3.313409     2.464303  0.159943   \n",
       "3  -0.009892  -0.142708 -0.096225 -0.191973 -0.211458     1.125190 -0.256195   \n",
       "4  -0.009842  -0.392373 -1.294053 -1.178844 -0.295384    -0.883480 -0.880402   \n",
       "\n",
       "   Ecology_3  Ecology_2  Shops_2  \n",
       "0          1          1        1  \n",
       "1          1          1        1  \n",
       "2          1          1        1  \n",
       "3          1          1        1  \n",
       "4          1          1        0  "
      ]
     },
     "execution_count": 48,
     "metadata": {},
     "output_type": "execute_result"
    }
   ],
   "source": [
    "df.head()"
   ]
  },
  {
   "cell_type": "code",
   "execution_count": 14,
   "metadata": {},
   "outputs": [],
   "source": [
    "with open('model.pkl','rb') as file:\n",
    "    model_load=pickle.load(file)"
   ]
  },
  {
   "cell_type": "code",
   "execution_count": 50,
   "metadata": {},
   "outputs": [
    {
     "name": "stdout",
     "output_type": "stream",
     "text": [
      "<class 'pandas.core.frame.DataFrame'>\n",
      "RangeIndex: 5000 entries, 0 to 4999\n",
      "Data columns (total 18 columns):\n",
      "Id             5000 non-null object\n",
      "DistrictId     5000 non-null float64\n",
      "Rooms          5000 non-null float64\n",
      "Square         5000 non-null float64\n",
      "LifeSquare     5000 non-null float64\n",
      "Floor          5000 non-null float64\n",
      "HouseFloor     5000 non-null float64\n",
      "HouseYear      5000 non-null float64\n",
      "Ecology_1      5000 non-null float64\n",
      "Social_1       5000 non-null float64\n",
      "Social_2       5000 non-null float64\n",
      "Social_3       5000 non-null float64\n",
      "Helthcare_2    5000 non-null float64\n",
      "Shops_1        5000 non-null float64\n",
      "Ecology_3      5000 non-null int64\n",
      "Ecology_2      5000 non-null int64\n",
      "Shops_2        5000 non-null int64\n",
      "Price          5000 non-null float64\n",
      "dtypes: float64(14), int64(3), object(1)\n",
      "memory usage: 703.2+ KB\n"
     ]
    }
   ],
   "source": [
    "df.info()"
   ]
  },
  {
   "cell_type": "code",
   "execution_count": 52,
   "metadata": {},
   "outputs": [],
   "source": [
    "df['Price']=model_load.predict(df[feature_names])"
   ]
  },
  {
   "cell_type": "code",
   "execution_count": 54,
   "metadata": {},
   "outputs": [],
   "source": [
    "df[['Id','Price']].to_csv('SBolsh_predictions.csv',index=False)"
   ]
  },
  {
   "cell_type": "code",
   "execution_count": null,
   "metadata": {},
   "outputs": [],
   "source": []
  }
 ],
 "metadata": {
  "kernelspec": {
   "display_name": "Python 3",
   "language": "python",
   "name": "python3"
  },
  "language_info": {
   "codemirror_mode": {
    "name": "ipython",
    "version": 3
   },
   "file_extension": ".py",
   "mimetype": "text/x-python",
   "name": "python",
   "nbconvert_exporter": "python",
   "pygments_lexer": "ipython3",
   "version": "3.7.4"
  }
 },
 "nbformat": 4,
 "nbformat_minor": 2
}
